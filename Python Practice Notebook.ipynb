{
 "cells": [
  {
   "cell_type": "markdown",
   "id": "7d2212cf-914e-416c-a5a9-8ad151319333",
   "metadata": {},
   "source": [
    "# <ins>`Data Science Python Practice Repository`</ins>"
   ]
  },
  {
   "cell_type": "markdown",
   "id": "2453b8d1-8f47-4489-a5ce-2c8ff1943cb0",
   "metadata": {},
   "source": [
    "-- Ajit Mane (ajitmane36@gmail.com)"
   ]
  },
  {
   "cell_type": "markdown",
   "id": "f672679e-2eae-4c45-b025-2b1f5afa535a",
   "metadata": {},
   "source": [
    "Welcome to the Data Science Python Practice Repository! This repository is designed to provide a platform for practicing Python programming in the field of data science. It offers a wide range of code snippets and exercises to help you enhance your Python skills, with a particular focus on data analysis, machine learning, and data visualization."
   ]
  },
  {
   "cell_type": "raw",
   "id": "24a40ec5-dc7b-49f4-ac6c-c9b5146dca47",
   "metadata": {},
   "source": []
  },
  {
   "cell_type": "code",
   "execution_count": 1,
   "id": "0d300d1e-9929-4cfb-9051-f49a7bb64f10",
   "metadata": {
    "tags": []
   },
   "outputs": [],
   "source": [
    "# Importing necessary libraries\n",
    "import numpy as np\n",
    "import pandas as pd\n",
    "import seaborn as sns\n",
    "import matplotlib.pyplot as plt\n",
    "%matplotlib inline"
   ]
  },
  {
   "cell_type": "markdown",
   "id": "d779a857-806d-43d3-a9bd-7c820f974b4a",
   "metadata": {},
   "source": [
    "Question 1:\n",
    "Write a Python function that takes a list of numbers as input and returns a new list containing only the even numbers from the original list."
   ]
  },
  {
   "cell_type": "code",
   "execution_count": 1,
   "id": "60b00c73-760a-4187-ab1d-66b57a74b25e",
   "metadata": {
    "tags": []
   },
   "outputs": [
    {
     "name": "stdout",
     "output_type": "stream",
     "text": [
      "[2, 4, 6, 8, 10]\n"
     ]
    }
   ],
   "source": [
    "# Writting function for even numbers\n",
    "def get_even_numbers(numbers):\n",
    "    even_numbers = []\n",
    "    for num in numbers:\n",
    "        if num % 2 == 0:\n",
    "            even_numbers.append(num)\n",
    "    return even_numbers\n",
    "\n",
    "# validating function\n",
    "numbers = [1, 2, 3, 4, 5, 6, 7, 8, 9, 10]\n",
    "even_numbers = get_even_numbers(numbers)\n",
    "print(even_numbers)"
   ]
  },
  {
   "cell_type": "markdown",
   "id": "2aae76b0-ffa3-46b2-942f-e1304d60d67a",
   "metadata": {},
   "source": [
    "Question 2. Write a Python function that takes a list of strings as input and returns a new list containing only the strings that have a length greater than a given value."
   ]
  },
  {
   "cell_type": "code",
   "execution_count": 3,
   "id": "f9d1e09d-e596-45d5-a12b-dea94fb04230",
   "metadata": {},
   "outputs": [
    {
     "name": "stdout",
     "output_type": "stream",
     "text": [
      "['banana', 'cherry']\n"
     ]
    }
   ],
   "source": [
    "# Defining function\n",
    "def filter_strings_by_length(strings, length):\n",
    "    filtered_strings = []\n",
    "    for string in strings:\n",
    "        if len(string) > length:\n",
    "            filtered_strings.append(string)\n",
    "    return filtered_strings\n",
    "\n",
    "# Validating Function\n",
    "strings = [\"apple\", \"banana\", \"cherry\", \"kiwi\", \"mango\"]\n",
    "length = 5\n",
    "filtered_strings = filter_strings_by_length(strings, length)\n",
    "print(filtered_strings)"
   ]
  },
  {
   "cell_type": "markdown",
   "id": "1f018428-4d6e-4884-aa35-05394ee8ec45",
   "metadata": {},
   "source": [
    "Question 3:\n",
    "Write a Python function that takes a string as input and counts the frequency of each character in the string. The function should return a dictionary where the keys represent the characters and the values represent their corresponding frequencies."
   ]
  },
  {
   "cell_type": "code",
   "execution_count": 20,
   "id": "88b56ef0-5776-4f88-9c63-83e1cbf51a99",
   "metadata": {
    "tags": []
   },
   "outputs": [
    {
     "name": "stdout",
     "output_type": "stream",
     "text": [
      "{'w': 1, 'h': 1, 'r': 1, 'o': 2, 'e': 1, 'd': 1, 'l': 3}\n"
     ]
    }
   ],
   "source": [
    "# Defining function\n",
    "def char_frequency(string):\n",
    "    '''Function takes string as input and return frequency of each character\n",
    "    Args: string\n",
    "    Return: frequency of each character'''\n",
    "    frequency={}\n",
    "    string=string.replace(' ','')\n",
    "    unique_char=set(string)\n",
    "    # Using for loop ti iterate over each character\n",
    "    for char in unique_char:\n",
    "        frequency[char]=string.count(char)\n",
    "    return frequency\n",
    "\n",
    "# Validation\n",
    "string = \"hello world\"\n",
    "character_frequency = char_frequency(string)\n",
    "print(character_frequency)"
   ]
  },
  {
   "cell_type": "markdown",
   "id": "2b166488-fc4b-401f-9d0a-e86c1761bafe",
   "metadata": {},
   "source": [
    "Question 4:\n",
    "Write a Python function that takes a list of integers as input and returns a new list containing only the prime numbers from the original list."
   ]
  },
  {
   "cell_type": "code",
   "execution_count": 24,
   "id": "8ef1637f-dba1-4977-a855-7652031d8295",
   "metadata": {
    "tags": []
   },
   "outputs": [
    {
     "name": "stdout",
     "output_type": "stream",
     "text": [
      "[2, 3, 5, 7]\n"
     ]
    }
   ],
   "source": [
    "# Defining function\n",
    "def prime_number(list_):\n",
    "    '''Function takes list of numbers and return prime numbers\n",
    "    Arg: List of number\n",
    "    Return: return list of number'''\n",
    "    from sympy import isprime\n",
    "    prime_number_list=[]\n",
    "    for num in list_:\n",
    "        if isprime(num)==True:\n",
    "            prime_number_list.append(num)\n",
    "        else:\n",
    "            pass\n",
    "    return prime_number_list\n",
    "\n",
    "# Validate  function\n",
    "numbers = [2, 3, 4, 5, 6, 7, 8, 9, 10]\n",
    "prime_numbers = prime_number(numbers)\n",
    "print(prime_numbers)"
   ]
  },
  {
   "cell_type": "markdown",
   "id": "82822c8d-13d3-4bdc-8834-54536ac1761f",
   "metadata": {},
   "source": [
    "Question 5:\n",
    "Write a Python function that takes a string as input and checks if it is a pangram or not. A pangram is a sentence that contains every letter of the alphabet at least once. The function should return True if the input string is a pangram, and False otherwise."
   ]
  },
  {
   "cell_type": "code",
   "execution_count": 29,
   "id": "eeda5d4f-3350-4a12-bb14-f5f8c6bd815d",
   "metadata": {
    "tags": []
   },
   "outputs": [
    {
     "name": "stdout",
     "output_type": "stream",
     "text": [
      "True\n"
     ]
    }
   ],
   "source": [
    "# defining function\n",
    "def is_pangram(string):\n",
    "    '''Fumction takes string as input asnd return string is pangram or not\n",
    "    Arg: string as input\n",
    "    Return: True or False'''\n",
    "    alphabets=['a','b','c','d','e','f','g','h','i','j','k','l','m','n','o','p','q','r','s','t','u','v','w','x','y','z']\n",
    "    string=string.lower()\n",
    "    for char in alphabets:\n",
    "        if char not in string:\n",
    "            return False\n",
    "        else:\n",
    "            return True\n",
    "        \n",
    "# Validate  function\n",
    "sentence = \"The quick brown fox jumps over the lazy dog\"\n",
    "is_pangram_result = is_pangram(sentence)\n",
    "print(is_pangram_result)"
   ]
  },
  {
   "cell_type": "markdown",
   "id": "45d19296-8bbc-4b42-8fb2-03c88fffaf9a",
   "metadata": {},
   "source": [
    "Question 6. Write a function called reverse_words that takes a sentence as input and returns the sentence with the order of words reversed. Each word in the sentence should remain unchanged, but the order of the words should be reversed."
   ]
  },
  {
   "cell_type": "code",
   "execution_count": 31,
   "id": "1caf35d4-412e-4498-97e3-9cf76a49dfc2",
   "metadata": {
    "tags": []
   },
   "outputs": [
    {
     "name": "stdout",
     "output_type": "stream",
     "text": [
      "you? are how world, Hello\n"
     ]
    }
   ],
   "source": [
    "# Defining function\n",
    "def reverse_words(string):\n",
    "    '''Function takes string as input and return string as reverse by words in it\n",
    "    Argument: String\n",
    "    Return: Reverse string by words'''\n",
    "    string=string.split()\n",
    "    reverse_list=string[::-1]\n",
    "    return ' '.join(reverse_list)\n",
    "\n",
    "# Validation\n",
    "sentence = \"Hello world, how are you?\"\n",
    "reversed_sentence = reverse_words(sentence)\n",
    "print(reversed_sentence)"
   ]
  },
  {
   "cell_type": "markdown",
   "id": "6e75ddbd-7f60-4839-ae9d-68c5f9cb924c",
   "metadata": {},
   "source": [
    "Question 7. Write a function called remove_duplicates that takes a list as input and returns a new list with duplicate elements removed. The order of the elements should be maintained in the new list."
   ]
  },
  {
   "cell_type": "code",
   "execution_count": 34,
   "id": "e25f7a0a-d16f-4dc1-8937-e886fa1ed82c",
   "metadata": {
    "tags": []
   },
   "outputs": [
    {
     "name": "stdout",
     "output_type": "stream",
     "text": [
      "[1, 2, 3, 4, 5]\n"
     ]
    }
   ],
   "source": [
    "# Defining Function\n",
    "def remove_duplicates(list_):\n",
    "    '''Function takes list of integers as input and returns unique elements\n",
    "    Args: List of integers\n",
    "    Returns: unique elements'''\n",
    "    list_=list(set(list_))\n",
    "    return list_\n",
    "\n",
    "# Validation\n",
    "lst = [1, 2, 3, 2, 4, 1, 5]\n",
    "result = remove_duplicates(lst)\n",
    "print(result)"
   ]
  },
  {
   "cell_type": "markdown",
   "id": "b5c0f528-6ef3-473f-a5c0-3a30e6f74a7c",
   "metadata": {},
   "source": [
    "Question 8. Write a function called find_missing_number that takes a list of integers from 1 to N (inclusive), with one number missing, and returns the missing number.\n",
    "For example, if the input list is [1, 2, 3, 5], the missing number is 4, so the function should return 4."
   ]
  },
  {
   "cell_type": "code",
   "execution_count": 3,
   "id": "51910db7-c361-4f79-85b6-9d9cb81f9b7e",
   "metadata": {
    "tags": []
   },
   "outputs": [
    {
     "name": "stdout",
     "output_type": "stream",
     "text": [
      "[0, 4]\n"
     ]
    }
   ],
   "source": [
    "# Defining Function\n",
    "def missing_number(list_):\n",
    "    '''Function takes list as input and returns missing numbers\n",
    "    Args: List of integers\n",
    "    Returns: Missing number'''\n",
    "    missing_number=[]\n",
    "    max_num=max(list_)\n",
    "    for i in range(0,max_num+1):\n",
    "        if i not in list_:\n",
    "            missing_number.append(i)\n",
    "    return missing_number\n",
    "    \n",
    "# Validation\n",
    "numbers = [1, 2, 3, 5]\n",
    "missing_number = missing_number(numbers)\n",
    "print(missing_number)"
   ]
  },
  {
   "cell_type": "markdown",
   "id": "7aaafbdf-74c7-44e3-8c5f-dee42f3270c6",
   "metadata": {},
   "source": [
    "Question 9. Write a function called common_elements that takes two lists as input and returns a new list containing the common elements between the two input lists.\n",
    "For example, if the input lists are [1, 2, 3, 4] and [3, 4, 5, 6], the common elements are [3, 4], so the function should return [3, 4]."
   ]
  },
  {
   "cell_type": "code",
   "execution_count": 4,
   "id": "ba7cdee6-923b-4054-af22-e5235a83a882",
   "metadata": {
    "tags": []
   },
   "outputs": [
    {
     "name": "stdout",
     "output_type": "stream",
     "text": [
      "[3, 4]\n"
     ]
    }
   ],
   "source": [
    "# Defining function for finding common element\n",
    "def common_elements(list1, list2):\n",
    "    '''Function takes two lists of numbers and return common elements from these two list\n",
    "    Args: Two list of integers\n",
    "    Returns: Common elements from two lists'''\n",
    "    common_elements=[]\n",
    "    for num in list1:\n",
    "        if num in list2:\n",
    "            common_elements.append(num)\n",
    "    return common_elements\n",
    "\n",
    "# Validation of function\n",
    "list1 = [1, 2, 3, 4]\n",
    "list2 = [3, 4, 5, 6]\n",
    "common_elements_list = common_elements(list1, list2)\n",
    "print(common_elements_list)"
   ]
  },
  {
   "cell_type": "markdown",
   "id": "1005632d-837a-40c2-8d59-8215b52904e3",
   "metadata": {},
   "source": [
    "Question 10. Write a function called count_vowels that takes a string as input and returns the count of vowels (a, e, i, o, u) in the string."
   ]
  },
  {
   "cell_type": "code",
   "execution_count": 8,
   "id": "f653cc62-149f-49bc-96e4-d76cc66e60c5",
   "metadata": {
    "tags": []
   },
   "outputs": [
    {
     "name": "stdout",
     "output_type": "stream",
     "text": [
      "({'a': 1, 'e': 2, 'o': 3, 'u': 1}, 7)\n"
     ]
    }
   ],
   "source": [
    "# Count of Vowels in string\n",
    "def count_vowels(string:str):\n",
    "    '''Function takes string as input and returns frequency of vovels present in string\n",
    "    Args: string\n",
    "    Return: frequency of vovels from string'''\n",
    "    vowels_frequency={}\n",
    "    vovels='aeiou'\n",
    "    string=string.replace(' ','').lower()\n",
    "    for char in vovels:\n",
    "        if char in string:\n",
    "            vowels_frequency[char]=string.count(char)\n",
    "    frequency=sum(vowels_frequency.values())\n",
    "    return vowels_frequency, frequency\n",
    "\n",
    "# Validation of function\n",
    "# Validation\n",
    "text = \"Hello, how are you?\"\n",
    "vowel_count = count_vowels(text)\n",
    "print(vowel_count)"
   ]
  },
  {
   "cell_type": "markdown",
   "id": "b4a61b66-45a6-4ed5-b7ac-6578eba634e6",
   "metadata": {},
   "source": [
    "Question 11. Write a Python function that takes a list of integers as input and returns a new list that contains only the even numbers from the input list."
   ]
  },
  {
   "cell_type": "code",
   "execution_count": 9,
   "id": "226f8ab8-b71c-4cb8-95f3-1ba637d6922f",
   "metadata": {
    "tags": []
   },
   "outputs": [
    {
     "name": "stdout",
     "output_type": "stream",
     "text": [
      "[2, 4, 6, 8, 10]\n"
     ]
    }
   ],
   "source": [
    "# Function to find even numbers from given list\n",
    "def find_even_numbers(list_):\n",
    "    '''Function takes list of integers as input and returns only even numbers from list\n",
    "    Args: List of integers\n",
    "    Returns: Even numbers from list'''\n",
    "    even_numbers=[]\n",
    "    for num in list_:\n",
    "        if (num%2==0):\n",
    "            even_numbers.append(num)\n",
    "    return even_numbers\n",
    "\n",
    "# Validation of function\n",
    "numbers = [1, 2, 3, 4, 5, 6, 7, 8, 9, 10]\n",
    "print(find_even_numbers(numbers))"
   ]
  },
  {
   "cell_type": "markdown",
   "id": "7fec6c96-608e-42ef-810e-abb9371326af",
   "metadata": {},
   "source": [
    "Question 12. Write a Python function that takes a string as input and returns the number of words in the string. Assume that words in the string are separated by spaces."
   ]
  },
  {
   "cell_type": "code",
   "execution_count": 11,
   "id": "83c469b0-757a-4903-8cad-cc0de52cd07c",
   "metadata": {
    "tags": []
   },
   "outputs": [
    {
     "name": "stdout",
     "output_type": "stream",
     "text": [
      "5\n"
     ]
    }
   ],
   "source": [
    "# Function for counting of words in string\n",
    "def count_words(string):\n",
    "    '''Function takes string as input and returns numbers of words\n",
    "    Args: String\n",
    "    Returns: Count of words in string'''\n",
    "    count=0\n",
    "    word_list=string.split() # We can also use count length of list to count words in list\n",
    "    for word in word_list:\n",
    "        if word in word_list: #Uning count method\n",
    "            count+=1\n",
    "    return count\n",
    "\n",
    "# Validation\n",
    "text = \"This is a sample sentence.\"\n",
    "print(count_words(text))"
   ]
  },
  {
   "cell_type": "markdown",
   "id": "86c71f14-c2d9-42d8-b3f3-1a2e905b81d9",
   "metadata": {},
   "source": [
    "Question 13. Write a Python function that takes a list of strings as input and returns a new list containing the lengths of the strings in the input list."
   ]
  },
  {
   "cell_type": "code",
   "execution_count": 14,
   "id": "72ac15c2-b80f-432b-b562-2b3b91aa4b06",
   "metadata": {
    "tags": []
   },
   "outputs": [
    {
     "name": "stdout",
     "output_type": "stream",
     "text": [
      "[5, 5, 6, 0]\n"
     ]
    }
   ],
   "source": [
    "# Defining function\n",
    "def string_length(list_):\n",
    "    '''Function takes list as input and returns length of each string\n",
    "    Args: List of string\n",
    "    Returns: Length of each string in list'''\n",
    "    string_length=[]\n",
    "    for string in list_:\n",
    "        string_length.append(len(string))\n",
    "    return string_length\n",
    "\n",
    "# Validation of function\n",
    "strings = [\"Hello\", \"world\", \"Python\", \"\"]\n",
    "result=string_length(strings)\n",
    "print(result)"
   ]
  },
  {
   "cell_type": "markdown",
   "id": "8226926f-d445-40ba-bb3d-ab39e07b0449",
   "metadata": {},
   "source": [
    "Question 14. Write a Python function that takes a list of integers as input and returns a new list containing only the odd numbers from the input list."
   ]
  },
  {
   "cell_type": "code",
   "execution_count": 15,
   "id": "dcba1e73-c79e-4e46-9bd4-68440f78fb2b",
   "metadata": {
    "tags": []
   },
   "outputs": [
    {
     "name": "stdout",
     "output_type": "stream",
     "text": [
      "[1, 3, 5, 7, 9]\n"
     ]
    }
   ],
   "source": [
    "# Function to find odd numbers\n",
    "def find_odd_numbers(list_):\n",
    "    '''Function takes list of integers as input and returns odd numbers\n",
    "    Args: List of numbers\n",
    "    returns: Odd numbers from given list of numbers'''\n",
    "    odd_numbers=[]\n",
    "    for num in list_:\n",
    "        if (num%2!=0):\n",
    "            odd_numbers.append(num)\n",
    "    return odd_numbers\n",
    "\n",
    "# Validation\n",
    "numbers = [1, 2, 3, 4, 5, 6, 7, 8, 9, 10]\n",
    "print(find_odd_numbers(numbers))"
   ]
  },
  {
   "cell_type": "markdown",
   "id": "88236a0d-9137-4355-a56f-79a091fb9d3f",
   "metadata": {},
   "source": [
    "Question 15. Write a Python function called average_grade that takes a list of grades (integers) as input and returns the average grade. The average should be calculated as the sum of all grades divided by the total number of grades.\n",
    "For example, given the list [80, 90, 75, 85, 95], the function should return 85.0, which is the average of the grades."
   ]
  },
  {
   "cell_type": "code",
   "execution_count": 25,
   "id": "0ed03326-4859-4bd5-8df4-e304905c6eb8",
   "metadata": {
    "tags": []
   },
   "outputs": [
    {
     "name": "stdout",
     "output_type": "stream",
     "text": [
      "84.2\n"
     ]
    }
   ],
   "source": [
    "# Defining function for finding average\n",
    "def average_grade(list_):\n",
    "    '''Function takes list of numbers as input and returns average\n",
    "    Args: List of integers\n",
    "    Returns: Average of list'''\n",
    "    average=sum(list_)/len(list_)\n",
    "    return average\n",
    "\n",
    "# Validation\n",
    "grades = [80, 90, 75, 85, 91]\n",
    "average = average_grade(grades)\n",
    "print(average)"
   ]
  },
  {
   "cell_type": "markdown",
   "id": "8d5d0282-6a74-47bc-8dc3-d180294ef87c",
   "metadata": {},
   "source": [
    "Question 16. Question: Write a function called count_words that takes a string as input and returns the count of words in the string. A word is defined as a sequence of non-whitespace characters separated by whitespace. The function should ignore leading and trailing whitespace and treat consecutive whitespace characters as a single delimiter."
   ]
  },
  {
   "cell_type": "code",
   "execution_count": 28,
   "id": "9a128777-1c42-4256-99f9-6a1db7a3a55a",
   "metadata": {
    "tags": []
   },
   "outputs": [
    {
     "name": "stdout",
     "output_type": "stream",
     "text": [
      "4\n"
     ]
    }
   ],
   "source": [
    "# Defining function\n",
    "def word_count(string):\n",
    "    '''Function takes string as input and returns count of words\n",
    "    Args: String\n",
    "    Returns: Count of words'''\n",
    "    word_list=string.strip().split()\n",
    "    return len(word_list)\n",
    "\n",
    "# Validation of function\n",
    "# Validation\n",
    "text = \"   Hello,   how are   you?   \"\n",
    "word_count = word_count(text)\n",
    "print(word_count)"
   ]
  },
  {
   "cell_type": "markdown",
   "id": "16f27745-7152-4c95-961d-3c6b5cabc9f0",
   "metadata": {},
   "source": [
    "Question 17. Write a Python function called find_max that takes a list of numbers as input and returns the maximum number from that list."
   ]
  },
  {
   "cell_type": "code",
   "execution_count": 2,
   "id": "9edf8ca3-fce7-4e4a-8d26-ebeb4e7fc9c4",
   "metadata": {
    "tags": []
   },
   "outputs": [
    {
     "name": "stdout",
     "output_type": "stream",
     "text": [
      "64\n"
     ]
    }
   ],
   "source": [
    "# Finding maximum number from list\n",
    "\n",
    "def max_number(list_):\n",
    "    '''Funtion takes list as input and returns maximum number from list\n",
    "    Args: List of integers\n",
    "    Returns: Maximum number'''\n",
    "    return max(list_)\n",
    "\n",
    "# Validation\n",
    "list_ = [12, 45, 8, 27, 64, 5, 32]\n",
    "print(max_number(list_))"
   ]
  },
  {
   "cell_type": "markdown",
   "id": "2eb54bb6-ce95-48eb-b39a-d854f3ab16b3",
   "metadata": {},
   "source": [
    "Question 18: Write a Python function to check if a given string is a palindrome. Implement the function is_palindrome(s) that takes a string s as input and returns True if s is a palindrome, and False otherwise."
   ]
  },
  {
   "cell_type": "code",
   "execution_count": 16,
   "id": "6cdab26c-0f1a-4899-a97c-041850178715",
   "metadata": {
    "tags": []
   },
   "outputs": [
    {
     "name": "stdout",
     "output_type": "stream",
     "text": [
      "True\n",
      "True\n",
      "False\n",
      "False\n",
      "True\n"
     ]
    }
   ],
   "source": [
    "# Finding input is palindrome or not\n",
    "\n",
    "def is_palindrome(input):\n",
    "    '''Function check weather given input is palindrome or not\n",
    "    Args: Input as string or integers\n",
    "    Returns: input is palindrome or not'''\n",
    "    input=str(input)\n",
    "    if input==input[::-1]:\n",
    "        return True\n",
    "    else:\n",
    "        return False\n",
    "    \n",
    "# Validation of function\n",
    "list_=['radar', 'level', 'gain', 143, 282]\n",
    "for i in list_:\n",
    "    print(is_palindrome(i))"
   ]
  },
  {
   "cell_type": "code",
   "execution_count": null,
   "id": "2895e358-72f5-4430-ad54-f6a5fc0ecb26",
   "metadata": {},
   "outputs": [],
   "source": []
  }
 ],
 "metadata": {
  "kernelspec": {
   "display_name": "Python 3 (ipykernel)",
   "language": "python",
   "name": "python3"
  },
  "language_info": {
   "codemirror_mode": {
    "name": "ipython",
    "version": 3
   },
   "file_extension": ".py",
   "mimetype": "text/x-python",
   "name": "python",
   "nbconvert_exporter": "python",
   "pygments_lexer": "ipython3",
   "version": "3.9.16"
  }
 },
 "nbformat": 4,
 "nbformat_minor": 5
}
