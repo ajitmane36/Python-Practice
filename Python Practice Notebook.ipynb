{
 "cells": [
  {
   "cell_type": "markdown",
   "id": "7d2212cf-914e-416c-a5a9-8ad151319333",
   "metadata": {},
   "source": [
    "# <ins>`Data Science Python Practice Repository`</ins>"
   ]
  },
  {
   "cell_type": "markdown",
   "id": "2453b8d1-8f47-4489-a5ce-2c8ff1943cb0",
   "metadata": {},
   "source": [
    "-- Ajit Mane (ajitmane36@gmail.com)"
   ]
  },
  {
   "cell_type": "markdown",
   "id": "f672679e-2eae-4c45-b025-2b1f5afa535a",
   "metadata": {},
   "source": [
    "Welcome to the Data Science Python Practice Repository! This repository is designed to provide a platform for practicing Python programming in the field of data science. It offers a wide range of code snippets and exercises to help you enhance your Python skills, with a particular focus on data analysis, machine learning, and data visualization."
   ]
  },
  {
   "cell_type": "raw",
   "id": "24a40ec5-dc7b-49f4-ac6c-c9b5146dca47",
   "metadata": {},
   "source": []
  },
  {
   "cell_type": "code",
   "execution_count": 1,
   "id": "0d300d1e-9929-4cfb-9051-f49a7bb64f10",
   "metadata": {
    "tags": []
   },
   "outputs": [],
   "source": [
    "# Importing necessary libraries\n",
    "import numpy as np\n",
    "import pandas as pd\n",
    "import seaborn as sns\n",
    "import matplotlib.pyplot as plt\n",
    "%matplotlib inline"
   ]
  },
  {
   "cell_type": "markdown",
   "id": "d779a857-806d-43d3-a9bd-7c820f974b4a",
   "metadata": {},
   "source": [
    "Question 1:\n",
    "Write a Python function that takes a list of numbers as input and returns a new list containing only the even numbers from the original list."
   ]
  },
  {
   "cell_type": "code",
   "execution_count": 1,
   "id": "60b00c73-760a-4187-ab1d-66b57a74b25e",
   "metadata": {
    "tags": []
   },
   "outputs": [
    {
     "name": "stdout",
     "output_type": "stream",
     "text": [
      "[2, 4, 6, 8, 10]\n"
     ]
    }
   ],
   "source": [
    "# Writting function for even numbers\n",
    "def get_even_numbers(numbers):\n",
    "    even_numbers = []\n",
    "    for num in numbers:\n",
    "        if num % 2 == 0:\n",
    "            even_numbers.append(num)\n",
    "    return even_numbers\n",
    "\n",
    "# validating function\n",
    "numbers = [1, 2, 3, 4, 5, 6, 7, 8, 9, 10]\n",
    "even_numbers = get_even_numbers(numbers)\n",
    "print(even_numbers)"
   ]
  },
  {
   "cell_type": "markdown",
   "id": "2aae76b0-ffa3-46b2-942f-e1304d60d67a",
   "metadata": {},
   "source": [
    "Question 2. Write a Python function that takes a list of strings as input and returns a new list containing only the strings that have a length greater than a given value."
   ]
  },
  {
   "cell_type": "code",
   "execution_count": 3,
   "id": "f9d1e09d-e596-45d5-a12b-dea94fb04230",
   "metadata": {},
   "outputs": [
    {
     "name": "stdout",
     "output_type": "stream",
     "text": [
      "['banana', 'cherry']\n"
     ]
    }
   ],
   "source": [
    "# Defining function\n",
    "def filter_strings_by_length(strings, length):\n",
    "    filtered_strings = []\n",
    "    for string in strings:\n",
    "        if len(string) > length:\n",
    "            filtered_strings.append(string)\n",
    "    return filtered_strings\n",
    "\n",
    "# Validating Function\n",
    "strings = [\"apple\", \"banana\", \"cherry\", \"kiwi\", \"mango\"]\n",
    "length = 5\n",
    "filtered_strings = filter_strings_by_length(strings, length)\n",
    "print(filtered_strings)"
   ]
  },
  {
   "cell_type": "markdown",
   "id": "1f018428-4d6e-4884-aa35-05394ee8ec45",
   "metadata": {},
   "source": [
    "Question 3:\n",
    "Write a Python function that takes a string as input and counts the frequency of each character in the string. The function should return a dictionary where the keys represent the characters and the values represent their corresponding frequencies."
   ]
  },
  {
   "cell_type": "code",
   "execution_count": 20,
   "id": "88b56ef0-5776-4f88-9c63-83e1cbf51a99",
   "metadata": {
    "tags": []
   },
   "outputs": [
    {
     "name": "stdout",
     "output_type": "stream",
     "text": [
      "{'w': 1, 'h': 1, 'r': 1, 'o': 2, 'e': 1, 'd': 1, 'l': 3}\n"
     ]
    }
   ],
   "source": [
    "# Defining function\n",
    "def char_frequency(string):\n",
    "    '''Function takes string as input and return frequency of each character\n",
    "    Args: string\n",
    "    Return: frequency of each character'''\n",
    "    frequency={}\n",
    "    string=string.replace(' ','')\n",
    "    unique_char=set(string)\n",
    "    # Using for loop ti iterate over each character\n",
    "    for char in unique_char:\n",
    "        frequency[char]=string.count(char)\n",
    "    return frequency\n",
    "\n",
    "# Validation\n",
    "string = \"hello world\"\n",
    "character_frequency = char_frequency(string)\n",
    "print(character_frequency)"
   ]
  },
  {
   "cell_type": "markdown",
   "id": "2b166488-fc4b-401f-9d0a-e86c1761bafe",
   "metadata": {},
   "source": [
    "Question 4:\n",
    "Write a Python function that takes a list of integers as input and returns a new list containing only the prime numbers from the original list."
   ]
  },
  {
   "cell_type": "code",
   "execution_count": 24,
   "id": "8ef1637f-dba1-4977-a855-7652031d8295",
   "metadata": {
    "tags": []
   },
   "outputs": [
    {
     "name": "stdout",
     "output_type": "stream",
     "text": [
      "[2, 3, 5, 7]\n"
     ]
    }
   ],
   "source": [
    "# Defining function\n",
    "def prime_number(list_):\n",
    "    '''Function takes list of numbers and return prime numbers\n",
    "    Arg: List of number\n",
    "    Return: return list of number'''\n",
    "    from sympy import isprime\n",
    "    prime_number_list=[]\n",
    "    for num in list_:\n",
    "        if isprime(num)==True:\n",
    "            prime_number_list.append(num)\n",
    "        else:\n",
    "            pass\n",
    "    return prime_number_list\n",
    "\n",
    "# Validate  function\n",
    "numbers = [2, 3, 4, 5, 6, 7, 8, 9, 10]\n",
    "prime_numbers = prime_number(numbers)\n",
    "print(prime_numbers)"
   ]
  },
  {
   "cell_type": "markdown",
   "id": "82822c8d-13d3-4bdc-8834-54536ac1761f",
   "metadata": {},
   "source": [
    "Question 5:\n",
    "Write a Python function that takes a string as input and checks if it is a pangram or not. A pangram is a sentence that contains every letter of the alphabet at least once. The function should return True if the input string is a pangram, and False otherwise."
   ]
  },
  {
   "cell_type": "code",
   "execution_count": 29,
   "id": "eeda5d4f-3350-4a12-bb14-f5f8c6bd815d",
   "metadata": {
    "tags": []
   },
   "outputs": [
    {
     "name": "stdout",
     "output_type": "stream",
     "text": [
      "True\n"
     ]
    }
   ],
   "source": [
    "# defining function\n",
    "def is_pangram(string):\n",
    "    '''Fumction takes string as input asnd return string is pangram or not\n",
    "    Arg: string as input\n",
    "    Return: True or False'''\n",
    "    alphabets=['a','b','c','d','e','f','g','h','i','j','k','l','m','n','o','p','q','r','s','t','u','v','w','x','y','z']\n",
    "    string=string.lower()\n",
    "    for char in alphabets:\n",
    "        if char not in string:\n",
    "            return False\n",
    "        else:\n",
    "            return True\n",
    "        \n",
    "# Validate  function\n",
    "sentence = \"The quick brown fox jumps over the lazy dog\"\n",
    "is_pangram_result = is_pangram(sentence)\n",
    "print(is_pangram_result)"
   ]
  },
  {
   "cell_type": "markdown",
   "id": "45d19296-8bbc-4b42-8fb2-03c88fffaf9a",
   "metadata": {},
   "source": [
    "Question 6. Write a function called reverse_words that takes a sentence as input and returns the sentence with the order of words reversed. Each word in the sentence should remain unchanged, but the order of the words should be reversed."
   ]
  },
  {
   "cell_type": "code",
   "execution_count": 31,
   "id": "1caf35d4-412e-4498-97e3-9cf76a49dfc2",
   "metadata": {
    "tags": []
   },
   "outputs": [
    {
     "name": "stdout",
     "output_type": "stream",
     "text": [
      "you? are how world, Hello\n"
     ]
    }
   ],
   "source": [
    "# Defining function\n",
    "def reverse_words(string):\n",
    "    '''Function takes string as input and return string as reverse by words in it\n",
    "    Argument: String\n",
    "    Return: Reverse string by words'''\n",
    "    string=string.split()\n",
    "    reverse_list=string[::-1]\n",
    "    return ' '.join(reverse_list)\n",
    "\n",
    "# Validation\n",
    "sentence = \"Hello world, how are you?\"\n",
    "reversed_sentence = reverse_words(sentence)\n",
    "print(reversed_sentence)"
   ]
  },
  {
   "cell_type": "markdown",
   "id": "6e75ddbd-7f60-4839-ae9d-68c5f9cb924c",
   "metadata": {},
   "source": [
    "Question 7. Write a function called remove_duplicates that takes a list as input and returns a new list with duplicate elements removed. The order of the elements should be maintained in the new list."
   ]
  },
  {
   "cell_type": "code",
   "execution_count": 34,
   "id": "e25f7a0a-d16f-4dc1-8937-e886fa1ed82c",
   "metadata": {
    "tags": []
   },
   "outputs": [
    {
     "name": "stdout",
     "output_type": "stream",
     "text": [
      "[1, 2, 3, 4, 5]\n"
     ]
    }
   ],
   "source": [
    "# Defining Function\n",
    "def remove_duplicates(list_):\n",
    "    '''Function takes list of integers as input and returns unique elements\n",
    "    Args: List of integers\n",
    "    Returns: unique elements'''\n",
    "    list_=list(set(list_))\n",
    "    return list_\n",
    "\n",
    "# Validation\n",
    "lst = [1, 2, 3, 2, 4, 1, 5]\n",
    "result = remove_duplicates(lst)\n",
    "print(result)"
   ]
  },
  {
   "cell_type": "code",
   "execution_count": null,
   "id": "1b81e01c-8244-4123-b973-b147b04164a3",
   "metadata": {},
   "outputs": [],
   "source": []
  }
 ],
 "metadata": {
  "kernelspec": {
   "display_name": "Python 3 (ipykernel)",
   "language": "python",
   "name": "python3"
  },
  "language_info": {
   "codemirror_mode": {
    "name": "ipython",
    "version": 3
   },
   "file_extension": ".py",
   "mimetype": "text/x-python",
   "name": "python",
   "nbconvert_exporter": "python",
   "pygments_lexer": "ipython3",
   "version": "3.9.16"
  }
 },
 "nbformat": 4,
 "nbformat_minor": 5
}
