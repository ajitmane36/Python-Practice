{
 "cells": [
  {
   "cell_type": "markdown",
   "id": "7d2212cf-914e-416c-a5a9-8ad151319333",
   "metadata": {},
   "source": [
    "# <ins>`Data Science Python Practice Repository`</ins>"
   ]
  },
  {
   "cell_type": "markdown",
   "id": "2453b8d1-8f47-4489-a5ce-2c8ff1943cb0",
   "metadata": {},
   "source": [
    "-- Ajit Mane (ajitmane36@gmail.com)"
   ]
  },
  {
   "cell_type": "markdown",
   "id": "f672679e-2eae-4c45-b025-2b1f5afa535a",
   "metadata": {},
   "source": [
    "Welcome to the Data Science Python Practice Repository! This repository is designed to provide a platform for practicing Python programming in the field of data science. It offers a wide range of code snippets and exercises to help you enhance your Python skills, with a particular focus on data analysis, machine learning, and data visualization."
   ]
  },
  {
   "cell_type": "raw",
   "id": "24a40ec5-dc7b-49f4-ac6c-c9b5146dca47",
   "metadata": {},
   "source": []
  },
  {
   "cell_type": "code",
   "execution_count": 1,
   "id": "0d300d1e-9929-4cfb-9051-f49a7bb64f10",
   "metadata": {
    "tags": []
   },
   "outputs": [],
   "source": [
    "# Importing necessary libraries\n",
    "import numpy as np\n",
    "import pandas as pd\n",
    "import seaborn as sns\n",
    "import matplotlib.pyplot as plt\n",
    "%matplotlib inline"
   ]
  },
  {
   "cell_type": "code",
   "execution_count": null,
   "id": "facc5320-2d0c-4107-bad4-5e5efa217eb0",
   "metadata": {},
   "outputs": [],
   "source": []
  }
 ],
 "metadata": {
  "kernelspec": {
   "display_name": "Python 3 (ipykernel)",
   "language": "python",
   "name": "python3"
  },
  "language_info": {
   "codemirror_mode": {
    "name": "ipython",
    "version": 3
   },
   "file_extension": ".py",
   "mimetype": "text/x-python",
   "name": "python",
   "nbconvert_exporter": "python",
   "pygments_lexer": "ipython3",
   "version": "3.9.16"
  }
 },
 "nbformat": 4,
 "nbformat_minor": 5
}
