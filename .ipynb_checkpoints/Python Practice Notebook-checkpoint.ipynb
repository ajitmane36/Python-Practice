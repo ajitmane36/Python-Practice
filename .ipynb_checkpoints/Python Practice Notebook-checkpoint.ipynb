{
 "cells": [
  {
   "cell_type": "markdown",
   "id": "7d2212cf-914e-416c-a5a9-8ad151319333",
   "metadata": {},
   "source": [
    "# <ins>`Data Science Python Practice Repository`</ins>"
   ]
  },
  {
   "cell_type": "markdown",
   "id": "2453b8d1-8f47-4489-a5ce-2c8ff1943cb0",
   "metadata": {},
   "source": [
    "-- Ajit Mane (ajitmane36@gmail.com)"
   ]
  },
  {
   "cell_type": "markdown",
   "id": "f672679e-2eae-4c45-b025-2b1f5afa535a",
   "metadata": {},
   "source": [
    "Welcome to the Data Science Python Practice Repository! This repository is designed to provide a platform for practicing Python programming in the field of data science. It offers a wide range of code snippets and exercises to help you enhance your Python skills, with a particular focus on data analysis, machine learning, and data visualization."
   ]
  },
  {
   "cell_type": "raw",
   "id": "24a40ec5-dc7b-49f4-ac6c-c9b5146dca47",
   "metadata": {},
   "source": []
  },
  {
   "cell_type": "code",
   "execution_count": 1,
   "id": "0d300d1e-9929-4cfb-9051-f49a7bb64f10",
   "metadata": {
    "tags": []
   },
   "outputs": [],
   "source": [
    "# Importing necessary libraries\n",
    "import numpy as np\n",
    "import pandas as pd\n",
    "import seaborn as sns\n",
    "import matplotlib.pyplot as plt\n",
    "%matplotlib inline"
   ]
  },
  {
   "cell_type": "markdown",
   "id": "d779a857-806d-43d3-a9bd-7c820f974b4a",
   "metadata": {},
   "source": [
    "Question 1:\n",
    "Write a Python function that takes a list of numbers as input and returns a new list containing only the even numbers from the original list."
   ]
  },
  {
   "cell_type": "code",
   "execution_count": 1,
   "id": "60b00c73-760a-4187-ab1d-66b57a74b25e",
   "metadata": {
    "tags": []
   },
   "outputs": [
    {
     "name": "stdout",
     "output_type": "stream",
     "text": [
      "[2, 4, 6, 8, 10]\n"
     ]
    }
   ],
   "source": [
    "# Writting function for even numbers\n",
    "def get_even_numbers(numbers):\n",
    "    even_numbers = []\n",
    "    for num in numbers:\n",
    "        if num % 2 == 0:\n",
    "            even_numbers.append(num)\n",
    "    return even_numbers\n",
    "\n",
    "# validating function\n",
    "numbers = [1, 2, 3, 4, 5, 6, 7, 8, 9, 10]\n",
    "even_numbers = get_even_numbers(numbers)\n",
    "print(even_numbers)"
   ]
  },
  {
   "cell_type": "code",
   "execution_count": null,
   "id": "f9d1e09d-e596-45d5-a12b-dea94fb04230",
   "metadata": {},
   "outputs": [],
   "source": []
  }
 ],
 "metadata": {
  "kernelspec": {
   "display_name": "Python 3 (ipykernel)",
   "language": "python",
   "name": "python3"
  },
  "language_info": {
   "codemirror_mode": {
    "name": "ipython",
    "version": 3
   },
   "file_extension": ".py",
   "mimetype": "text/x-python",
   "name": "python",
   "nbconvert_exporter": "python",
   "pygments_lexer": "ipython3",
   "version": "3.9.16"
  }
 },
 "nbformat": 4,
 "nbformat_minor": 5
}
